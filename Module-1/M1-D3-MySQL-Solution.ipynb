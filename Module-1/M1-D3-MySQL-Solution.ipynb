{
  "nbformat": 4,
  "nbformat_minor": 0,
  "metadata": {
    "kernelspec": {
      "display_name": "Python 3",
      "language": "python",
      "name": "python3"
    },
    "language_info": {
      "codemirror_mode": {
        "name": "ipython",
        "version": 3
      },
      "file_extension": ".py",
      "mimetype": "text/x-python",
      "name": "python",
      "nbconvert_exporter": "python",
      "pygments_lexer": "ipython3",
      "version": "3.7.8"
    },
    "colab": {
      "name": "M1-D3-MySQL-Solution.ipynb",
      "provenance": [],
      "include_colab_link": true
    }
  },
  "cells": [
    {
      "cell_type": "markdown",
      "metadata": {
        "id": "view-in-github",
        "colab_type": "text"
      },
      "source": [
        "<a href=\"https://colab.research.google.com/github/sigvehaug/CAS-Applied-Data-Science/blob/master/Module-1/M1-D3-MySQL-Solution.ipynb\" target=\"_parent\"><img src=\"https://colab.research.google.com/assets/colab-badge.svg\" alt=\"Open In Colab\"/></a>"
      ]
    },
    {
      "cell_type": "markdown",
      "metadata": {
        "id": "W8u-DwKa6UIB"
      },
      "source": [
        "### MySQL Exercise\n",
        "\n",
        "You have 45 minutes for this exercise. You will be randomly be assigned to class colleague and the two of get a separate virtual room where you can solve the exercise togehter. When you have finished, please return to the main virtual room.\n",
        "\n",
        "If you both are in the same physical location, of course you don't have to use your virtual room.\n",
        "\n",
        "**Task**\n",
        "- Check if there is visible correlation between payment amount and postal code of the customer, i.e. make a scatter plot.  \n",
        "- Calculate the total price for all orders in the database per product line.\n",
        "How much you do in SQL directly and how much with dataframes is up to you. \n",
        "\n",
        "**Have fun and start here:**\n",
        "\n",
        "- Study [MySQL-PDF.pdf](https://github.com/sigvehaug/CAS-Applied-Data-Science/raw/master/Module-1/M1-D2-DB/MySQL-PDF.pdf) in a different browser tab for an overview of the database to be used.\n",
        "- Connect to the database classicmodels which is running on computer host."
      ]
    },
    {
      "cell_type": "markdown",
      "metadata": {
        "id": "SbnOBcTY6oGz"
      },
      "source": [
        "mysql connector is not part of the default colab environment, so we need to install it."
      ]
    },
    {
      "cell_type": "code",
      "metadata": {
        "id": "rg35TPuk6ra6"
      },
      "source": [
        "!pip install mysql-connector-python"
      ],
      "execution_count": null,
      "outputs": []
    },
    {
      "cell_type": "code",
      "metadata": {
        "id": "jyc21K9A6UIE"
      },
      "source": [
        "# mysql is in package \"conda install mysql-connector-python\"\n",
        "import mysql.connector\n",
        "import pandas as pd \n",
        "my_connect = mysql.connector.connect(\n",
        "      host=\"fl-5-232.zhdk.cloud.switch.ch\",\n",
        "      port=3306,\n",
        "      user=\"user\",\n",
        "      passwd=\"fum+Apheb4\",\n",
        "      #database='training'\n",
        "      database=\"classicmodels\"\n",
        "    )\n",
        "####### end of connection ####\n"
      ],
      "execution_count": null,
      "outputs": []
    },
    {
      "cell_type": "markdown",
      "metadata": {
        "id": "SZXQLG-x6UIF"
      },
      "source": [
        "Now check that you can read the tables:"
      ]
    },
    {
      "cell_type": "code",
      "metadata": {
        "id": "OGt3xNDw6UIG",
        "outputId": "5c21850d-a546-49c9-cfaf-e6fef59bdbc6"
      },
      "source": [
        "df_prodline = pd.read_sql(\"SELECT productLine FROM productlines\",my_connect)\n",
        "df_prodline"
      ],
      "execution_count": null,
      "outputs": [
        {
          "data": {
            "text/html": [
              "<div>\n",
              "<style scoped>\n",
              "    .dataframe tbody tr th:only-of-type {\n",
              "        vertical-align: middle;\n",
              "    }\n",
              "\n",
              "    .dataframe tbody tr th {\n",
              "        vertical-align: top;\n",
              "    }\n",
              "\n",
              "    .dataframe thead th {\n",
              "        text-align: right;\n",
              "    }\n",
              "</style>\n",
              "<table border=\"1\" class=\"dataframe\">\n",
              "  <thead>\n",
              "    <tr style=\"text-align: right;\">\n",
              "      <th></th>\n",
              "      <th>productLine</th>\n",
              "    </tr>\n",
              "  </thead>\n",
              "  <tbody>\n",
              "    <tr>\n",
              "      <th>0</th>\n",
              "      <td>Classic Cars</td>\n",
              "    </tr>\n",
              "    <tr>\n",
              "      <th>1</th>\n",
              "      <td>Motorcycles</td>\n",
              "    </tr>\n",
              "    <tr>\n",
              "      <th>2</th>\n",
              "      <td>Planes</td>\n",
              "    </tr>\n",
              "    <tr>\n",
              "      <th>3</th>\n",
              "      <td>Ships</td>\n",
              "    </tr>\n",
              "    <tr>\n",
              "      <th>4</th>\n",
              "      <td>Trains</td>\n",
              "    </tr>\n",
              "    <tr>\n",
              "      <th>5</th>\n",
              "      <td>Trucks and Buses</td>\n",
              "    </tr>\n",
              "    <tr>\n",
              "      <th>6</th>\n",
              "      <td>Vintage Cars</td>\n",
              "    </tr>\n",
              "  </tbody>\n",
              "</table>\n",
              "</div>"
            ],
            "text/plain": [
              "        productLine\n",
              "0      Classic Cars\n",
              "1       Motorcycles\n",
              "2            Planes\n",
              "3             Ships\n",
              "4            Trains\n",
              "5  Trucks and Buses\n",
              "6      Vintage Cars"
            ]
          },
          "execution_count": 2,
          "metadata": {},
          "output_type": "execute_result"
        }
      ]
    },
    {
      "cell_type": "markdown",
      "metadata": {
        "id": "Yqut13r16UIH"
      },
      "source": [
        "Now continue with your task!"
      ]
    },
    {
      "cell_type": "code",
      "metadata": {
        "id": "ekyV1lcM6UII",
        "outputId": "9a1b7209-dce8-47e4-92bb-b646c38d5d8c"
      },
      "source": [
        "# Scatter plot showing payment amount versus postal code\n",
        "# Your code comes here\n",
        "df_dates = pd.read_sql(\"SELECT customerNumber, amount FROM payments\",my_connect)\n",
        "#df_dates['city'] = ''\n",
        "cities = []\n",
        "for i in range(0,len(df_dates)): \n",
        "    x1   = df_dates.loc[i][0]   \n",
        "    qry = \"SELECT postalCode FROM customers WHERE customerNumber='\"+str(x1)+\"'\"\n",
        "    df_cities = pd.read_sql(qry,my_connect)\n",
        "    try:\n",
        "        cities.append(int(df_cities.iloc[0,0]))\n",
        "    except: # No good postal number was ther\n",
        "        cities.append(0)\n",
        "df_dates['city'] = cities\n",
        "df_dates.plot.scatter(x='amount',y='city')\n"
      ],
      "execution_count": null,
      "outputs": [
        {
          "data": {
            "text/plain": [
              "<matplotlib.axes._subplots.AxesSubplot at 0x11940b290>"
            ]
          },
          "execution_count": 4,
          "metadata": {},
          "output_type": "execute_result"
        },
        {
          "data": {
            "image/png": "[encoded data removed]",
            "text/plain": [
              "<Figure size 432x288 with 1 Axes>"
            ]
          },
          "metadata": {
            "needs_background": "light"
          },
          "output_type": "display_data"
        }
      ]
    },
    {
      "cell_type": "code",
      "metadata": {
        "id": "NTUjP8PV6UII",
        "outputId": "299ae9f3-f8ee-46b0-e6b0-50fad5166123"
      },
      "source": [
        "# One possibility getting total price for all orders per product line\n",
        "# Your code comes here\n",
        "print('Total price for all orders per product line:\\n')\n",
        "for i in range(0,len(df_prodline)): \n",
        "    x1   = df_prodline.loc[i][0]\n",
        "    #print(x1)\n",
        "    qry = \"SELECT productcode FROM products WHERE productline='\"+x1+\"'\"\n",
        "    df_prodcode = pd.read_sql(qry,my_connect)\n",
        "    PriceTot    = 0\n",
        "    for j in range(0,len(df_prodcode)):\n",
        "        x2   = df_prodcode.loc[j][0]\n",
        "        #print(x1,x2)\n",
        "        qry = \"SELECT priceEach FROM orderdetails WHERE productcode='\"+x2+\"'\"\n",
        "        df_orddet = pd.read_sql(qry,my_connect)\n",
        "        for k in range(0,len(df_orddet)):\n",
        "            x3   = df_orddet.loc[k][0]\n",
        "            #print(x1,x2,x3)\n",
        "            PriceTot+=x3\n",
        "    print('%20s %10.2f USD'%(x1,PriceTot))"
      ],
      "execution_count": null,
      "outputs": [
        {
          "name": "stdout",
          "output_type": "stream",
          "text": [
            "Total price for all orders per product line:\n",
            "\n",
            "        Classic Cars  109084.52 USD\n",
            "         Motorcycles   31348.93 USD\n",
            "              Planes   26989.94 USD\n",
            "               Ships   19049.25 USD\n",
            "              Trains    5438.38 USD\n",
            "    Trucks and Buses   28554.45 USD\n",
            "        Vintage Cars   51479.95 USD\n"
          ]
        }
      ]
    },
    {
      "cell_type": "markdown",
      "metadata": {
        "id": "A3H_9Yqs6UIK"
      },
      "source": [
        "What is potentially very bad about this solution?"
      ]
    },
    {
      "cell_type": "markdown",
      "metadata": {
        "id": "uQJG9nRt6UIK"
      },
      "source": [
        "### NB\n",
        "\n",
        "The server with the database used in this notebook will be shut down tonight. However, installing a mysql data server on your own laptop is quite easy. Google is your friend. It takes maybe 1h for a beginner, 10min for an experienced."
      ]
    }
  ]
}