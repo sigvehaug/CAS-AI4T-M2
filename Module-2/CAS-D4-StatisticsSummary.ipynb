{
 "cells": [
  {
   "cell_type": "markdown",
   "metadata": {},
   "source": [
    "Notebook 4, Module 2, Statistical Inference for Data Science, CAS Applied Data Science, 2019-08-30, G. Conti, S. Haug, University of Bern."
   ]
  },
  {
   "cell_type": "markdown",
   "metadata": {},
   "source": [
    "## Project work Module 2\n",
    "\n",
    "This is my project work for Module 2. Plots, numbers and tables for the poster is produced with this Notebook.\n",
    "\n",
    "The data used is the Iris data set. Available here:\n",
    "https://archive.ics.uci.edu/ml/datasets/iris\n",
    "\n",
    "**Outline of the data analysis** 3x45 min (depending on your background)\n",
    "\n",
    "- Introduction (situation and goal)\n",
    "- Descriptive part\n",
    "- Data filtering with efficiency from fitted models\n",
    "- Hypothesis testing\n",
    "- Conclusions\n"
   ]
  },
  {
   "cell_type": "markdown",
   "metadata": {},
   "source": [
    "## 1. Introduction\n",
    "\n",
    "I am in court as a data science expert. My task is to give advice to the judges. I will have 15 minutes time and plan to bring a poster for the presentation. This way court participants can also look at it in the breaks.\n",
    "\n",
    "**Situation (fictional):**\n",
    "\n",
    "Some new company v4Setosa recently sequenced the genes of the Iris species Setosa and patented it, apparently in order to preserve this species because it is so beautiful. Due this patent it is not allowed to change the plant.\n",
    "\n",
    "A big farmer and hater of Iris and with a field where Iris is a disturbing weed, has been using a new product from Sonte Manto for a couple of years. The product is supposed to effectively kill Iris plants.\n",
    "\n",
    "A big Iris lover collected a sample of Iris plants from the farmer's field and thinks the Iris Setosa setal leaves are bigger than normal. She sent the sample to v4setosa, which in turn came to the conclusion that Setosa must have mutated due to the product from Sonte Manto. \n",
    "\n",
    "So w4setosa sued Sonte Manto with the claim that they have changed the plant with their product. Sonte Manto may risk to pay a billion dollars. The court has asked me to give a neutral and scientific advice. \n",
    "\n",
    "**Data Analysis**\n",
    "\n",
    "- Data collection\n",
    "    - Request a larger Iris sample from a field far away from the farmer -dataset 0. The data is labeled as the local collector had separate greenhouses for each species.\n",
    "    - Request a Iris sample from the farmer (collected by some neutral person) - dataset 1. The data is a random mix of all species\n",
    "- Description of the data\n",
    "    - Calculate means, variances and correlations\n",
    "    - Test normality\n",
    "    - Choose good plots\n",
    "- Find by **regression** a good way to filter out setosa in the farmer sample (increases the the power of the final test)\n",
    "- Add a **test** to the filtered sample, checking if the farmer setosa leaves differ significantly from the reference sample\n",
    "- Conclude\n",
    "- (Additionally **exclude** all mutation hypotheses not compatible with this experiment)\n",
    "\n",
    "\n",
    "\n",
    "\n"
   ]
  },
  {
   "cell_type": "markdown",
   "metadata": {},
   "source": [
    "**Definition of significant**\n",
    "\n",
    "We consider p-values below 0.001 as unlikely enough to reject the fluctuation hypothesis. We will for such values advice the court to consider it as a mutation. (This is a weak point that the laywers of Sonte Manto will of course attack.) "
   ]
  },
  {
   "cell_type": "markdown",
   "metadata": {},
   "source": [
    "## 2. Description of the datasets"
   ]
  },
  {
   "cell_type": "markdown",
   "metadata": {},
   "source": [
    "We artificially create the datasets. Out of the first 30 entries from each Iris species make the reference sets (annotated/labeled). With the rest, 20 rows per species, we create a mixed sample being the farmer sample (not anotated).   "
   ]
  },
  {
   "cell_type": "markdown",
   "metadata": {},
   "source": [
    "**Import modules we may need**"
   ]
  },
  {
   "cell_type": "code",
   "execution_count": 1,
   "metadata": {},
   "outputs": [],
   "source": [
    "import numpy as np\n",
    "import matplotlib.pyplot as plt\n",
    "import pandas as pd\n",
    "from scipy import stats"
   ]
  },
  {
   "cell_type": "markdown",
   "metadata": {},
   "source": [
    "**Create the datasets** "
   ]
  },
  {
   "cell_type": "code",
   "execution_count": 2,
   "metadata": {},
   "outputs": [],
   "source": [
    "df_org     = pd.read_csv('iris.csv',names=['slength','swidth','plength','pwidth','species']) # data type is a string (str), i.e. not converted into numbers\n",
    "df_ref_set = df_org[df_org['species']=='Iris-setosa'][:30]\n",
    "df_ref_vir = df_org[df_org['species']=='Iris-virginica'][:30]\n",
    "df_ref_ver = df_org[df_org['species']=='Iris-versicolor'][:30]\n",
    "df_farm_1  = df_org[df_org['species']=='Iris-setosa'][30:]\n",
    "df_farm_2  = df_org[df_org['species']=='Iris-virginica'][30:]\n",
    "df_farm_3  = df_org[df_org['species']=='Iris-versicolor'][30:]\n",
    "df_farm    = df_org[df_org['species']=='Iris-virginica'][30:]\n",
    "df_farm    = df_farm_1.append(df_farm_2.append(df_farm_3))\n"
   ]
  },
  {
   "cell_type": "markdown",
   "metadata": {},
   "source": [
    "The labels in the farmer dataset are unknown, so we remove them to 'simulate' the real situation."
   ]
  },
  {
   "cell_type": "code",
   "execution_count": 3,
   "metadata": {},
   "outputs": [
    {
     "data": {
      "text/html": [
       "<div>\n",
       "<style scoped>\n",
       "    .dataframe tbody tr th:only-of-type {\n",
       "        vertical-align: middle;\n",
       "    }\n",
       "\n",
       "    .dataframe tbody tr th {\n",
       "        vertical-align: top;\n",
       "    }\n",
       "\n",
       "    .dataframe thead th {\n",
       "        text-align: right;\n",
       "    }\n",
       "</style>\n",
       "<table border=\"1\" class=\"dataframe\">\n",
       "  <thead>\n",
       "    <tr style=\"text-align: right;\">\n",
       "      <th></th>\n",
       "      <th>slength</th>\n",
       "      <th>swidth</th>\n",
       "      <th>plength</th>\n",
       "      <th>pwidth</th>\n",
       "      <th>species</th>\n",
       "    </tr>\n",
       "  </thead>\n",
       "  <tbody>\n",
       "    <tr>\n",
       "      <th>30</th>\n",
       "      <td>4.8</td>\n",
       "      <td>3.1</td>\n",
       "      <td>1.6</td>\n",
       "      <td>0.2</td>\n",
       "      <td>Unknown</td>\n",
       "    </tr>\n",
       "    <tr>\n",
       "      <th>31</th>\n",
       "      <td>5.4</td>\n",
       "      <td>3.4</td>\n",
       "      <td>1.5</td>\n",
       "      <td>0.4</td>\n",
       "      <td>Unknown</td>\n",
       "    </tr>\n",
       "    <tr>\n",
       "      <th>32</th>\n",
       "      <td>5.2</td>\n",
       "      <td>4.1</td>\n",
       "      <td>1.5</td>\n",
       "      <td>0.1</td>\n",
       "      <td>Unknown</td>\n",
       "    </tr>\n",
       "    <tr>\n",
       "      <th>33</th>\n",
       "      <td>5.5</td>\n",
       "      <td>4.2</td>\n",
       "      <td>1.4</td>\n",
       "      <td>0.2</td>\n",
       "      <td>Unknown</td>\n",
       "    </tr>\n",
       "    <tr>\n",
       "      <th>34</th>\n",
       "      <td>4.9</td>\n",
       "      <td>3.1</td>\n",
       "      <td>1.5</td>\n",
       "      <td>0.1</td>\n",
       "      <td>Unknown</td>\n",
       "    </tr>\n",
       "  </tbody>\n",
       "</table>\n",
       "</div>"
      ],
      "text/plain": [
       "    slength  swidth  plength  pwidth  species\n",
       "30      4.8     3.1      1.6     0.2  Unknown\n",
       "31      5.4     3.4      1.5     0.4  Unknown\n",
       "32      5.2     4.1      1.5     0.1  Unknown\n",
       "33      5.5     4.2      1.4     0.2  Unknown\n",
       "34      4.9     3.1      1.5     0.1  Unknown"
      ]
     },
     "execution_count": 3,
     "metadata": {},
     "output_type": "execute_result"
    }
   ],
   "source": [
    "df_farm['species']='Unknown'\n",
    "df_farm.head()"
   ]
  },
  {
   "cell_type": "markdown",
   "metadata": {},
   "source": [
    "**Describe setosa**"
   ]
  },
  {
   "cell_type": "code",
   "execution_count": 4,
   "metadata": {},
   "outputs": [
    {
     "data": {
      "text/html": [
       "<div>\n",
       "<style scoped>\n",
       "    .dataframe tbody tr th:only-of-type {\n",
       "        vertical-align: middle;\n",
       "    }\n",
       "\n",
       "    .dataframe tbody tr th {\n",
       "        vertical-align: top;\n",
       "    }\n",
       "\n",
       "    .dataframe thead th {\n",
       "        text-align: right;\n",
       "    }\n",
       "</style>\n",
       "<table border=\"1\" class=\"dataframe\">\n",
       "  <thead>\n",
       "    <tr style=\"text-align: right;\">\n",
       "      <th></th>\n",
       "      <th>slength</th>\n",
       "      <th>swidth</th>\n",
       "      <th>plength</th>\n",
       "      <th>pwidth</th>\n",
       "    </tr>\n",
       "  </thead>\n",
       "  <tbody>\n",
       "    <tr>\n",
       "      <th>count</th>\n",
       "      <td>30.000000</td>\n",
       "      <td>30.000000</td>\n",
       "      <td>30.000000</td>\n",
       "      <td>30.000000</td>\n",
       "    </tr>\n",
       "    <tr>\n",
       "      <th>mean</th>\n",
       "      <td>5.026667</td>\n",
       "      <td>3.450000</td>\n",
       "      <td>1.473333</td>\n",
       "      <td>0.246667</td>\n",
       "    </tr>\n",
       "    <tr>\n",
       "      <th>std</th>\n",
       "      <td>0.372256</td>\n",
       "      <td>0.350123</td>\n",
       "      <td>0.185571</td>\n",
       "      <td>0.100801</td>\n",
       "    </tr>\n",
       "    <tr>\n",
       "      <th>min</th>\n",
       "      <td>4.300000</td>\n",
       "      <td>2.900000</td>\n",
       "      <td>1.000000</td>\n",
       "      <td>0.100000</td>\n",
       "    </tr>\n",
       "    <tr>\n",
       "      <th>25%</th>\n",
       "      <td>4.800000</td>\n",
       "      <td>3.200000</td>\n",
       "      <td>1.400000</td>\n",
       "      <td>0.200000</td>\n",
       "    </tr>\n",
       "    <tr>\n",
       "      <th>50%</th>\n",
       "      <td>5.000000</td>\n",
       "      <td>3.400000</td>\n",
       "      <td>1.500000</td>\n",
       "      <td>0.200000</td>\n",
       "    </tr>\n",
       "    <tr>\n",
       "      <th>75%</th>\n",
       "      <td>5.200000</td>\n",
       "      <td>3.675000</td>\n",
       "      <td>1.600000</td>\n",
       "      <td>0.300000</td>\n",
       "    </tr>\n",
       "    <tr>\n",
       "      <th>max</th>\n",
       "      <td>5.800000</td>\n",
       "      <td>4.400000</td>\n",
       "      <td>1.900000</td>\n",
       "      <td>0.500000</td>\n",
       "    </tr>\n",
       "  </tbody>\n",
       "</table>\n",
       "</div>"
      ],
      "text/plain": [
       "         slength     swidth    plength     pwidth\n",
       "count  30.000000  30.000000  30.000000  30.000000\n",
       "mean    5.026667   3.450000   1.473333   0.246667\n",
       "std     0.372256   0.350123   0.185571   0.100801\n",
       "min     4.300000   2.900000   1.000000   0.100000\n",
       "25%     4.800000   3.200000   1.400000   0.200000\n",
       "50%     5.000000   3.400000   1.500000   0.200000\n",
       "75%     5.200000   3.675000   1.600000   0.300000\n",
       "max     5.800000   4.400000   1.900000   0.500000"
      ]
     },
     "execution_count": 4,
     "metadata": {},
     "output_type": "execute_result"
    }
   ],
   "source": [
    "df_ref_set.describe()"
   ]
  },
  {
   "cell_type": "code",
   "execution_count": 5,
   "metadata": {},
   "outputs": [
    {
     "data": {
      "text/html": [
       "<div>\n",
       "<style scoped>\n",
       "    .dataframe tbody tr th:only-of-type {\n",
       "        vertical-align: middle;\n",
       "    }\n",
       "\n",
       "    .dataframe tbody tr th {\n",
       "        vertical-align: top;\n",
       "    }\n",
       "\n",
       "    .dataframe thead th {\n",
       "        text-align: right;\n",
       "    }\n",
       "</style>\n",
       "<table border=\"1\" class=\"dataframe\">\n",
       "  <thead>\n",
       "    <tr style=\"text-align: right;\">\n",
       "      <th></th>\n",
       "      <th>slength</th>\n",
       "      <th>swidth</th>\n",
       "      <th>plength</th>\n",
       "      <th>pwidth</th>\n",
       "    </tr>\n",
       "  </thead>\n",
       "  <tbody>\n",
       "    <tr>\n",
       "      <th>count</th>\n",
       "      <td>30.000000</td>\n",
       "      <td>30.000000</td>\n",
       "      <td>30.000000</td>\n",
       "      <td>30.000000</td>\n",
       "    </tr>\n",
       "    <tr>\n",
       "      <th>mean</th>\n",
       "      <td>6.583333</td>\n",
       "      <td>2.933333</td>\n",
       "      <td>5.603333</td>\n",
       "      <td>2.006667</td>\n",
       "    </tr>\n",
       "    <tr>\n",
       "      <th>std</th>\n",
       "      <td>0.688869</td>\n",
       "      <td>0.334595</td>\n",
       "      <td>0.626695</td>\n",
       "      <td>0.255874</td>\n",
       "    </tr>\n",
       "    <tr>\n",
       "      <th>min</th>\n",
       "      <td>4.900000</td>\n",
       "      <td>2.200000</td>\n",
       "      <td>4.500000</td>\n",
       "      <td>1.500000</td>\n",
       "    </tr>\n",
       "    <tr>\n",
       "      <th>25%</th>\n",
       "      <td>6.225000</td>\n",
       "      <td>2.725000</td>\n",
       "      <td>5.100000</td>\n",
       "      <td>1.800000</td>\n",
       "    </tr>\n",
       "    <tr>\n",
       "      <th>50%</th>\n",
       "      <td>6.500000</td>\n",
       "      <td>2.950000</td>\n",
       "      <td>5.600000</td>\n",
       "      <td>2.000000</td>\n",
       "    </tr>\n",
       "    <tr>\n",
       "      <th>75%</th>\n",
       "      <td>7.175000</td>\n",
       "      <td>3.150000</td>\n",
       "      <td>5.975000</td>\n",
       "      <td>2.175000</td>\n",
       "    </tr>\n",
       "    <tr>\n",
       "      <th>max</th>\n",
       "      <td>7.700000</td>\n",
       "      <td>3.800000</td>\n",
       "      <td>6.900000</td>\n",
       "      <td>2.500000</td>\n",
       "    </tr>\n",
       "  </tbody>\n",
       "</table>\n",
       "</div>"
      ],
      "text/plain": [
       "         slength     swidth    plength     pwidth\n",
       "count  30.000000  30.000000  30.000000  30.000000\n",
       "mean    6.583333   2.933333   5.603333   2.006667\n",
       "std     0.688869   0.334595   0.626695   0.255874\n",
       "min     4.900000   2.200000   4.500000   1.500000\n",
       "25%     6.225000   2.725000   5.100000   1.800000\n",
       "50%     6.500000   2.950000   5.600000   2.000000\n",
       "75%     7.175000   3.150000   5.975000   2.175000\n",
       "max     7.700000   3.800000   6.900000   2.500000"
      ]
     },
     "execution_count": 5,
     "metadata": {},
     "output_type": "execute_result"
    }
   ],
   "source": [
    "df_ref_vir.describe()"
   ]
  },
  {
   "cell_type": "code",
   "execution_count": 6,
   "metadata": {},
   "outputs": [
    {
     "data": {
      "text/html": [
       "<div>\n",
       "<style scoped>\n",
       "    .dataframe tbody tr th:only-of-type {\n",
       "        vertical-align: middle;\n",
       "    }\n",
       "\n",
       "    .dataframe tbody tr th {\n",
       "        vertical-align: top;\n",
       "    }\n",
       "\n",
       "    .dataframe thead th {\n",
       "        text-align: right;\n",
       "    }\n",
       "</style>\n",
       "<table border=\"1\" class=\"dataframe\">\n",
       "  <thead>\n",
       "    <tr style=\"text-align: right;\">\n",
       "      <th></th>\n",
       "      <th>slength</th>\n",
       "      <th>swidth</th>\n",
       "      <th>plength</th>\n",
       "      <th>pwidth</th>\n",
       "    </tr>\n",
       "  </thead>\n",
       "  <tbody>\n",
       "    <tr>\n",
       "      <th>count</th>\n",
       "      <td>30.000000</td>\n",
       "      <td>30.000000</td>\n",
       "      <td>30.000000</td>\n",
       "      <td>30.000000</td>\n",
       "    </tr>\n",
       "    <tr>\n",
       "      <th>mean</th>\n",
       "      <td>6.070000</td>\n",
       "      <td>2.790000</td>\n",
       "      <td>4.333333</td>\n",
       "      <td>1.353333</td>\n",
       "    </tr>\n",
       "    <tr>\n",
       "      <th>std</th>\n",
       "      <td>0.545925</td>\n",
       "      <td>0.328371</td>\n",
       "      <td>0.459635</td>\n",
       "      <td>0.211291</td>\n",
       "    </tr>\n",
       "    <tr>\n",
       "      <th>min</th>\n",
       "      <td>4.900000</td>\n",
       "      <td>2.000000</td>\n",
       "      <td>3.300000</td>\n",
       "      <td>1.000000</td>\n",
       "    </tr>\n",
       "    <tr>\n",
       "      <th>25%</th>\n",
       "      <td>5.700000</td>\n",
       "      <td>2.625000</td>\n",
       "      <td>4.000000</td>\n",
       "      <td>1.300000</td>\n",
       "    </tr>\n",
       "    <tr>\n",
       "      <th>50%</th>\n",
       "      <td>6.100000</td>\n",
       "      <td>2.850000</td>\n",
       "      <td>4.500000</td>\n",
       "      <td>1.400000</td>\n",
       "    </tr>\n",
       "    <tr>\n",
       "      <th>75%</th>\n",
       "      <td>6.475000</td>\n",
       "      <td>3.000000</td>\n",
       "      <td>4.700000</td>\n",
       "      <td>1.500000</td>\n",
       "    </tr>\n",
       "    <tr>\n",
       "      <th>max</th>\n",
       "      <td>7.000000</td>\n",
       "      <td>3.300000</td>\n",
       "      <td>5.000000</td>\n",
       "      <td>1.800000</td>\n",
       "    </tr>\n",
       "  </tbody>\n",
       "</table>\n",
       "</div>"
      ],
      "text/plain": [
       "         slength     swidth    plength     pwidth\n",
       "count  30.000000  30.000000  30.000000  30.000000\n",
       "mean    6.070000   2.790000   4.333333   1.353333\n",
       "std     0.545925   0.328371   0.459635   0.211291\n",
       "min     4.900000   2.000000   3.300000   1.000000\n",
       "25%     5.700000   2.625000   4.000000   1.300000\n",
       "50%     6.100000   2.850000   4.500000   1.400000\n",
       "75%     6.475000   3.000000   4.700000   1.500000\n",
       "max     7.000000   3.300000   5.000000   1.800000"
      ]
     },
     "execution_count": 6,
     "metadata": {},
     "output_type": "execute_result"
    }
   ],
   "source": [
    "df_ref_ver.describe()"
   ]
  },
  {
   "cell_type": "markdown",
   "metadata": {},
   "source": [
    "I'will make a table suited for the poster:"
   ]
  },
  {
   "cell_type": "code",
   "execution_count": 7,
   "metadata": {},
   "outputs": [],
   "source": [
    "#Python code for that table here."
   ]
  },
  {
   "cell_type": "markdown",
   "metadata": {},
   "source": [
    "**Check normality**"
   ]
  },
  {
   "cell_type": "code",
   "execution_count": 8,
   "metadata": {},
   "outputs": [
    {
     "name": "stdout",
     "output_type": "stream",
     "text": [
      "p-values from the normality tests on the setal width (D Agostino-Pearson):\n",
      "    Setosa 0.30 \n",
      " Virginica 0.34 \n",
      "Versicolor 0.23 \n",
      "    Farmer 0.30 \n"
     ]
    }
   ],
   "source": [
    "print('p-values from the normality tests on the setal width (D Agostino-Pearson):')\n",
    "datasets        = [df_ref_set['swidth'],df_ref_vir['swidth'],df_ref_ver['swidth'],df_farm['swidth'] ]\n",
    "dataset_labels = ['Setosa','Virginica','Versicolor','Farmer'] \n",
    "i = 0\n",
    "for dataset in datasets:\n",
    "  k2, p = stats.normaltest(dataset) # D Agostino-Pearson\n",
    "  print('%10s %1.2f ' % (dataset_labels[i],p))\n",
    "  i+=1"
   ]
  },
  {
   "cell_type": "markdown",
   "metadata": {},
   "source": [
    "We conclude that all datasets are normal in the setal width."
   ]
  },
  {
   "cell_type": "markdown",
   "metadata": {},
   "source": [
    "**Plot the histograms (looking for fitering posibilities)**"
   ]
  },
  {
   "cell_type": "code",
   "execution_count": 9,
   "metadata": {},
   "outputs": [
    {
     "data": {
      "image/png": "[encoded data removed]",
      "text/plain": [
       "<Figure size 864x720 with 4 Axes>"
      ]
     },
     "metadata": {
      "needs_background": "light"
     },
     "output_type": "display_data"
    }
   ],
   "source": [
    "plt.figure(figsize=(12,10))\n",
    "plt.subplot(2,2,1)\n",
    "plt.title('Setal Length')\n",
    "i=0\n",
    "for dataset in datasets[0:3]:\n",
    "    dataset.plot(kind=\"hist\",fill=True,alpha=0.2,histtype='step',label=dataset_labels[i])\n",
    "    #print('%10s %1.2f ' % (datasets_labels[i],p))\n",
    "    i+=1\n",
    "plt.legend()\n",
    "plt.subplot(2,2,2)\n",
    "plt.title('Setal Length')\n",
    "datasets2 = [df_ref_set['slength'],df_ref_vir['slength'],df_ref_ver['slength'],df_farm['slength'] ]\n",
    "i=0\n",
    "for dataset in datasets2[0:3]:\n",
    "    dataset.plot(kind=\"hist\",fill=True,alpha=0.2,histtype='step',label=dataset_labels[i])\n",
    "    #print('%10s %1.2f ' % (datasets_labels[i],p))\n",
    "    i+=1\n",
    "plt.legend()\n",
    "#plt.show()\n",
    "plt.subplot(2,2,3)\n",
    "plt.title('Petal Width')\n",
    "datasets3 = [df_ref_set['pwidth'],df_ref_vir['pwidth'],df_ref_ver['pwidth'],df_farm['pwidth'] ]\n",
    "i=0\n",
    "for dataset in datasets3[0:3]:\n",
    "    dataset.plot(kind=\"hist\",fill=True,alpha=0.2,histtype='step',label=dataset_labels[i])\n",
    "    #print('%10s %1.2f ' % (datasets_labels[i],p))\n",
    "    i+=1\n",
    "plt.legend()\n",
    "#plt.show()\n",
    "plt.subplot(2,2,4)\n",
    "plt.title('Petal Length')\n",
    "datasets4 = [df_ref_set['plength'],df_ref_vir['plength'],df_ref_ver['plength'],df_farm['plength'] ]\n",
    "i=0\n",
    "for dataset in datasets4[0:3]:\n",
    "    dataset.plot(kind=\"hist\",fill=True,alpha=0.2,histtype='step',label=dataset_labels[i])\n",
    "    #print('%10s %1.2f ' % (datasets_labels[i],p))\n",
    "    i+=1\n",
    "plt.legend()\n",
    "plt.show()"
   ]
  },
  {
   "cell_type": "markdown",
   "metadata": {},
   "source": [
    "It is clear that we filter out setosa more or less completly with p_width<0.7 cm and plength<2.5 cm. Let's look at the populations in this this space as a scatter plot. "
   ]
  },
  {
   "cell_type": "code",
   "execution_count": 10,
   "metadata": {},
   "outputs": [
    {
     "data": {
      "image/png": "[encoded data removed]",
      "text/plain": [
       "<Figure size 432x288 with 1 Axes>"
      ]
     },
     "metadata": {
      "needs_background": "light"
     },
     "output_type": "display_data"
    }
   ],
   "source": [
    "plt.subplot(1,1,1)\n",
    "plt.scatter(df_ref_set['plength'],df_ref_set['pwidth'],c='b',label='Setosa')\n",
    "plt.scatter(df_ref_vir['plength'],df_ref_vir['pwidth'],c='g',label='Virginica')\n",
    "plt.scatter(df_ref_ver['plength'],df_ref_ver['pwidth'],c='r',label='Versicolor')\n",
    "plt.xlabel('plength')\n",
    "plt.ylabel('pwidth')\n",
    "plt.legend()\n",
    "plt.show()"
   ]
  },
  {
   "cell_type": "markdown",
   "metadata": {},
   "source": [
    "A discrimination should work very well. However, we don't see the full distribution and this is just by eye. I will take a look at the sepal version of the plot, too."
   ]
  },
  {
   "cell_type": "code",
   "execution_count": 11,
   "metadata": {},
   "outputs": [
    {
     "data": {
      "image/png": "[encoded data removed]",
      "text/plain": [
       "<Figure size 432x288 with 1 Axes>"
      ]
     },
     "metadata": {
      "needs_background": "light"
     },
     "output_type": "display_data"
    }
   ],
   "source": [
    "plt.subplot(1,1,1)\n",
    "plt.scatter(df_ref_set['slength'],df_ref_set['swidth'],c='b',label='Setosa')\n",
    "plt.scatter(df_ref_vir['slength'],df_ref_vir['swidth'],c='g',label='Virginica')\n",
    "plt.scatter(df_ref_ver['slength'],df_ref_ver['swidth'],c='r',label='Versicolor')\n",
    "plt.xlabel('slength')\n",
    "plt.ylabel('swidth')\n",
    "plt.legend()\n",
    "plt.show()"
   ]
  },
  {
   "cell_type": "markdown",
   "metadata": {},
   "source": [
    "Also here a good separation seems easy by using a line. Fitting a line which best separates between two samples belongs to Module 3. Here we will choose by eye two cuts in the petal plane and estimate the efficiency of the filter by using generated values from fitted models."
   ]
  },
  {
   "cell_type": "markdown",
   "metadata": {},
   "source": [
    "## 3. Filtering out Setosa from the farmer sample"
   ]
  },
  {
   "cell_type": "markdown",
   "metadata": {},
   "source": [
    "Let us fit normal distributions to the reference samples. Then generate 100 000 rows with these distributions, plot the scatter plots with this simulated data, define the fitering cuts and calculate the efficiency of our filter."
   ]
  },
  {
   "cell_type": "code",
   "execution_count": 12,
   "metadata": {},
   "outputs": [
    {
     "data": {
      "image/png": "[encoded data removed]",
      "text/plain": [
       "<Figure size 432x288 with 1 Axes>"
      ]
     },
     "metadata": {
      "needs_background": "light"
     },
     "output_type": "display_data"
    }
   ],
   "source": [
    "import scipy\n",
    "mean, sd = scipy.stats.norm.fit(df_ref_set['plength'])\n",
    "df_gen_pl_set = scipy.stats.norm.rvs(mean,sd,100000)\n",
    "mean, sd = scipy.stats.norm.fit(df_ref_set['pwidth'])\n",
    "df_gen_pw_set = scipy.stats.norm.rvs(mean,sd,100000)\n",
    "\n",
    "mean, sd = scipy.stats.norm.fit(df_ref_vir['plength'])\n",
    "df_gen_pl_vir = scipy.stats.norm.rvs(mean,sd,100000)\n",
    "mean, sd = scipy.stats.norm.fit(df_ref_vir['pwidth'])\n",
    "df_gen_pw_vir = scipy.stats.norm.rvs(mean,sd,100000)\n",
    "\n",
    "mean, sd = scipy.stats.norm.fit(df_ref_ver['plength'])\n",
    "df_gen_pl_ver = scipy.stats.norm.rvs(mean,sd,100000)\n",
    "mean, sd = scipy.stats.norm.fit(df_ref_ver['pwidth'])\n",
    "df_gen_pw_ver = scipy.stats.norm.rvs(mean,sd,100000)\n",
    "\n",
    "plt.subplot(1,1,1)\n",
    "plt.scatter(df_gen_pl_set,df_gen_pw_set,c='b',label='Setosa')\n",
    "plt.scatter(df_gen_pl_vir,df_gen_pw_vir,c='g',label='Virginiga')\n",
    "plt.scatter(df_gen_pl_ver,df_gen_pw_ver,c='r',label='Versicolor')\n",
    "plt.xlabel('plength')\n",
    "plt.ylabel('pwidth')\n",
    "plt.legend()\n",
    "plt.show()"
   ]
  },
  {
   "cell_type": "markdown",
   "metadata": {},
   "source": [
    "**Filter choice:** plength<2.5 and pwidth<1.0\n",
    "    \n",
    "**Filter efficiency:** \n",
    "- Setosa 1.0 (100%)\n",
    "- Virginica 0.0\n",
    "- Versicolor 0.0 "
   ]
  },
  {
   "cell_type": "markdown",
   "metadata": {},
   "source": [
    "## 3. Filter the farmer data"
   ]
  },
  {
   "cell_type": "code",
   "execution_count": 13,
   "metadata": {},
   "outputs": [
    {
     "data": {
      "text/html": [
       "<div>\n",
       "<style scoped>\n",
       "    .dataframe tbody tr th:only-of-type {\n",
       "        vertical-align: middle;\n",
       "    }\n",
       "\n",
       "    .dataframe tbody tr th {\n",
       "        vertical-align: top;\n",
       "    }\n",
       "\n",
       "    .dataframe thead th {\n",
       "        text-align: right;\n",
       "    }\n",
       "</style>\n",
       "<table border=\"1\" class=\"dataframe\">\n",
       "  <thead>\n",
       "    <tr style=\"text-align: right;\">\n",
       "      <th></th>\n",
       "      <th>slength</th>\n",
       "      <th>swidth</th>\n",
       "      <th>plength</th>\n",
       "      <th>pwidth</th>\n",
       "      <th>species</th>\n",
       "    </tr>\n",
       "  </thead>\n",
       "  <tbody>\n",
       "    <tr>\n",
       "      <th>42</th>\n",
       "      <td>4.4</td>\n",
       "      <td>3.2</td>\n",
       "      <td>1.3</td>\n",
       "      <td>0.2</td>\n",
       "      <td>Unknown</td>\n",
       "    </tr>\n",
       "    <tr>\n",
       "      <th>38</th>\n",
       "      <td>4.4</td>\n",
       "      <td>3.0</td>\n",
       "      <td>1.3</td>\n",
       "      <td>0.2</td>\n",
       "      <td>Unknown</td>\n",
       "    </tr>\n",
       "    <tr>\n",
       "      <th>41</th>\n",
       "      <td>4.5</td>\n",
       "      <td>2.3</td>\n",
       "      <td>1.3</td>\n",
       "      <td>0.3</td>\n",
       "      <td>Unknown</td>\n",
       "    </tr>\n",
       "    <tr>\n",
       "      <th>47</th>\n",
       "      <td>4.6</td>\n",
       "      <td>3.2</td>\n",
       "      <td>1.4</td>\n",
       "      <td>0.2</td>\n",
       "      <td>Unknown</td>\n",
       "    </tr>\n",
       "    <tr>\n",
       "      <th>30</th>\n",
       "      <td>4.8</td>\n",
       "      <td>3.1</td>\n",
       "      <td>1.6</td>\n",
       "      <td>0.2</td>\n",
       "      <td>Unknown</td>\n",
       "    </tr>\n",
       "    <tr>\n",
       "      <th>45</th>\n",
       "      <td>4.8</td>\n",
       "      <td>3.0</td>\n",
       "      <td>1.4</td>\n",
       "      <td>0.3</td>\n",
       "      <td>Unknown</td>\n",
       "    </tr>\n",
       "    <tr>\n",
       "      <th>37</th>\n",
       "      <td>4.9</td>\n",
       "      <td>3.1</td>\n",
       "      <td>1.5</td>\n",
       "      <td>0.1</td>\n",
       "      <td>Unknown</td>\n",
       "    </tr>\n",
       "    <tr>\n",
       "      <th>34</th>\n",
       "      <td>4.9</td>\n",
       "      <td>3.1</td>\n",
       "      <td>1.5</td>\n",
       "      <td>0.1</td>\n",
       "      <td>Unknown</td>\n",
       "    </tr>\n",
       "    <tr>\n",
       "      <th>49</th>\n",
       "      <td>5.0</td>\n",
       "      <td>3.3</td>\n",
       "      <td>1.4</td>\n",
       "      <td>0.2</td>\n",
       "      <td>Unknown</td>\n",
       "    </tr>\n",
       "    <tr>\n",
       "      <th>40</th>\n",
       "      <td>5.0</td>\n",
       "      <td>3.5</td>\n",
       "      <td>1.3</td>\n",
       "      <td>0.3</td>\n",
       "      <td>Unknown</td>\n",
       "    </tr>\n",
       "    <tr>\n",
       "      <th>35</th>\n",
       "      <td>5.0</td>\n",
       "      <td>3.2</td>\n",
       "      <td>1.2</td>\n",
       "      <td>0.2</td>\n",
       "      <td>Unknown</td>\n",
       "    </tr>\n",
       "    <tr>\n",
       "      <th>43</th>\n",
       "      <td>5.0</td>\n",
       "      <td>3.5</td>\n",
       "      <td>1.6</td>\n",
       "      <td>0.6</td>\n",
       "      <td>Unknown</td>\n",
       "    </tr>\n",
       "    <tr>\n",
       "      <th>46</th>\n",
       "      <td>5.1</td>\n",
       "      <td>3.8</td>\n",
       "      <td>1.6</td>\n",
       "      <td>0.2</td>\n",
       "      <td>Unknown</td>\n",
       "    </tr>\n",
       "    <tr>\n",
       "      <th>44</th>\n",
       "      <td>5.1</td>\n",
       "      <td>3.8</td>\n",
       "      <td>1.9</td>\n",
       "      <td>0.4</td>\n",
       "      <td>Unknown</td>\n",
       "    </tr>\n",
       "    <tr>\n",
       "      <th>39</th>\n",
       "      <td>5.1</td>\n",
       "      <td>3.4</td>\n",
       "      <td>1.5</td>\n",
       "      <td>0.2</td>\n",
       "      <td>Unknown</td>\n",
       "    </tr>\n",
       "    <tr>\n",
       "      <th>32</th>\n",
       "      <td>5.2</td>\n",
       "      <td>4.1</td>\n",
       "      <td>1.5</td>\n",
       "      <td>0.1</td>\n",
       "      <td>Unknown</td>\n",
       "    </tr>\n",
       "    <tr>\n",
       "      <th>48</th>\n",
       "      <td>5.3</td>\n",
       "      <td>3.7</td>\n",
       "      <td>1.5</td>\n",
       "      <td>0.2</td>\n",
       "      <td>Unknown</td>\n",
       "    </tr>\n",
       "    <tr>\n",
       "      <th>31</th>\n",
       "      <td>5.4</td>\n",
       "      <td>3.4</td>\n",
       "      <td>1.5</td>\n",
       "      <td>0.4</td>\n",
       "      <td>Unknown</td>\n",
       "    </tr>\n",
       "    <tr>\n",
       "      <th>36</th>\n",
       "      <td>5.5</td>\n",
       "      <td>3.5</td>\n",
       "      <td>1.3</td>\n",
       "      <td>0.2</td>\n",
       "      <td>Unknown</td>\n",
       "    </tr>\n",
       "    <tr>\n",
       "      <th>33</th>\n",
       "      <td>5.5</td>\n",
       "      <td>4.2</td>\n",
       "      <td>1.4</td>\n",
       "      <td>0.2</td>\n",
       "      <td>Unknown</td>\n",
       "    </tr>\n",
       "  </tbody>\n",
       "</table>\n",
       "</div>"
      ],
      "text/plain": [
       "    slength  swidth  plength  pwidth  species\n",
       "42      4.4     3.2      1.3     0.2  Unknown\n",
       "38      4.4     3.0      1.3     0.2  Unknown\n",
       "41      4.5     2.3      1.3     0.3  Unknown\n",
       "47      4.6     3.2      1.4     0.2  Unknown\n",
       "30      4.8     3.1      1.6     0.2  Unknown\n",
       "45      4.8     3.0      1.4     0.3  Unknown\n",
       "37      4.9     3.1      1.5     0.1  Unknown\n",
       "34      4.9     3.1      1.5     0.1  Unknown\n",
       "49      5.0     3.3      1.4     0.2  Unknown\n",
       "40      5.0     3.5      1.3     0.3  Unknown\n",
       "35      5.0     3.2      1.2     0.2  Unknown\n",
       "43      5.0     3.5      1.6     0.6  Unknown\n",
       "46      5.1     3.8      1.6     0.2  Unknown\n",
       "44      5.1     3.8      1.9     0.4  Unknown\n",
       "39      5.1     3.4      1.5     0.2  Unknown\n",
       "32      5.2     4.1      1.5     0.1  Unknown\n",
       "48      5.3     3.7      1.5     0.2  Unknown\n",
       "31      5.4     3.4      1.5     0.4  Unknown\n",
       "36      5.5     3.5      1.3     0.2  Unknown\n",
       "33      5.5     4.2      1.4     0.2  Unknown"
      ]
     },
     "execution_count": 13,
     "metadata": {},
     "output_type": "execute_result"
    }
   ],
   "source": [
    "df_farm     = df_farm.sort_values('slength')\n",
    "df_farm_set = df_farm[df_farm['plength'] < 2.5]\n",
    "df_farm_set"
   ]
  },
  {
   "cell_type": "markdown",
   "metadata": {},
   "source": [
    "## 4. Make the hypothesis test"
   ]
  },
  {
   "cell_type": "markdown",
   "metadata": {},
   "source": [
    "What is the probability that the farmer's Setosa sample is a just fluctuation of the fitted model?\n",
    "\n",
    "First on the non-filtered farmer data:"
   ]
  },
  {
   "cell_type": "code",
   "execution_count": 14,
   "metadata": {},
   "outputs": [
    {
     "data": {
      "text/plain": [
       "Ttest_indResult(statistic=-4.439847029716977, pvalue=2.6025613930449344e-05)"
      ]
     },
     "execution_count": 14,
     "metadata": {},
     "output_type": "execute_result"
    }
   ],
   "source": [
    "stats.ttest_ind(df_farm['swidth'],df_ref_set['swidth'])"
   ]
  },
  {
   "cell_type": "markdown",
   "metadata": {},
   "source": [
    "These are not from the same population. What about the filtered data:"
   ]
  },
  {
   "cell_type": "code",
   "execution_count": 15,
   "metadata": {},
   "outputs": [
    {
     "data": {
      "text/plain": [
       "Ttest_indResult(statistic=-0.7237814582186126, pvalue=0.4727127408773476)"
      ]
     },
     "execution_count": 15,
     "metadata": {},
     "output_type": "execute_result"
    }
   ],
   "source": [
    "stats.ttest_ind(df_farm_set['swidth'],df_ref_set['swidth'])"
   ]
  },
  {
   "cell_type": "markdown",
   "metadata": {},
   "source": [
    "Clearly from the same population. Some more tests:"
   ]
  },
  {
   "cell_type": "code",
   "execution_count": 16,
   "metadata": {},
   "outputs": [
    {
     "data": {
      "text/plain": [
       "Ttest_indResult(statistic=-0.503874959098223, pvalue=0.6166541850289631)"
      ]
     },
     "execution_count": 16,
     "metadata": {},
     "output_type": "execute_result"
    }
   ],
   "source": [
    "stats.ttest_ind(df_farm_set['slength'],df_ref_set['slength'])"
   ]
  },
  {
   "cell_type": "code",
   "execution_count": 17,
   "metadata": {},
   "outputs": [
    {
     "data": {
      "text/plain": [
       "Ttest_indResult(statistic=-0.4620898274411638, pvalue=0.6461046018163226)"
      ]
     },
     "execution_count": 17,
     "metadata": {},
     "output_type": "execute_result"
    }
   ],
   "source": [
    "stats.ttest_ind(df_farm_set['plength'],df_ref_set['plength'])"
   ]
  },
  {
   "cell_type": "markdown",
   "metadata": {},
   "source": [
    "## Conclusion\n",
    "\n",
    "Our data analysis cannot confirm the claim of v4setosa. There is absolutely no evidence for the claim in our independent study. We advice the court to judge for not guilty. \n",
    "\n",
    "(And we sent a very large bill which the looser v4setosa had to pay. v4setosa went bankrott and we cannot sleep anymore...)\n",
    "\n",
    "## Remarks regarding the poster session\n",
    "\n",
    "I used four hours for this small analysis. To work it out, doing more tests, think through, study here and there, make nice tables and plots, create the poster, I would probably need another 10 hours. \n",
    "\n",
    "Considering that you may need longer due to less experience, this is what is expected from you for the poster session (about 30h work)."
   ]
  },
  {
   "cell_type": "code",
   "execution_count": null,
   "metadata": {},
   "outputs": [],
   "source": []
  }
 ],
 "metadata": {
  "kernelspec": {
   "display_name": "Python 3",
   "language": "python",
   "name": "python3"
  },
  "language_info": {
   "codemirror_mode": {
    "name": "ipython",
    "version": 3
   },
   "file_extension": ".py",
   "mimetype": "text/x-python",
   "name": "python",
   "nbconvert_exporter": "python",
   "pygments_lexer": "ipython3",
   "version": "3.7.3"
  }
 },
 "nbformat": 4,
 "nbformat_minor": 2
}
